{
 "cells": [
  {
   "cell_type": "markdown",
   "id": "9969be69",
   "metadata": {},
   "source": [
    "# Notebook to debug Hyper Parameter Optimization"
   ]
  },
  {
   "cell_type": "code",
   "execution_count": 9,
   "id": "e1cc1f6d-50a4-4c5a-99c3-d7ebd0720a41",
   "metadata": {
    "tags": []
   },
   "outputs": [
    {
     "name": "stdout",
     "output_type": "stream",
     "text": [
      "Epoch 1 ...\n",
      "Images [160/6680 (2%)] Loss: 5.114 Accuracy: 4/160 (2.500%)\n",
      "Images [320/6680 (5%)] Loss: 5.222 Accuracy: 10/320 (3.125%)\n",
      "Images [480/6680 (7%)] Loss: 4.713 Accuracy: 19/480 (3.958%)\n",
      "Images [640/6680 (10%)] Loss: 4.613 Accuracy: 41/640 (6.406%)\n",
      "Images [800/6680 (12%)] Loss: 4.477 Accuracy: 65/800 (8.125%)\n",
      "Images [960/6680 (14%)] Loss: 4.249 Accuracy: 92/960 (9.583%)\n",
      "Images [1120/6680 (17%)] Loss: 4.098 Accuracy: 125/1120 (11.161%)\n",
      "Images [1280/6680 (19%)] Loss: 3.767 Accuracy: 162/1280 (12.656%)\n",
      "Phase training, Epoc loss 4.479, Epoc accuracy 13.616\n",
      "Images [160/835 (19%)] Loss: 3.505 Accuracy: 47/160 (29.375%)\n",
      "Phase validation, Epoc loss 3.503, Epoc accuracy 31.250\n",
      "3.503211816151937 1000000.0\n",
      "Epoch 2 ...\n",
      "Images [160/6680 (2%)] Loss: 3.506 Accuracy: 48/160 (30.000%)\n",
      "Images [320/6680 (5%)] Loss: 2.920 Accuracy: 106/320 (33.125%)\n",
      "Images [480/6680 (7%)] Loss: 3.004 Accuracy: 168/480 (35.000%)\n",
      "Images [640/6680 (10%)] Loss: 2.330 Accuracy: 235/640 (36.719%)\n",
      "Images [800/6680 (12%)] Loss: 2.085 Accuracy: 305/800 (38.125%)\n",
      "Images [960/6680 (14%)] Loss: 1.605 Accuracy: 388/960 (40.417%)\n",
      "Images [1120/6680 (17%)] Loss: 2.050 Accuracy: 474/1120 (42.321%)\n",
      "Images [1280/6680 (19%)] Loss: 2.240 Accuracy: 557/1280 (43.516%)\n",
      "Phase training, Epoc loss 2.540, Epoc accuracy 43.824\n",
      "Images [160/835 (19%)] Loss: 2.062 Accuracy: 84/160 (52.500%)\n",
      "Phase validation, Epoc loss 1.825, Epoc accuracy 51.562\n",
      "1.8250403602917988 3.503211816151937\n",
      "Epoch 3 ...\n",
      "Images [160/6680 (2%)] Loss: 1.593 Accuracy: 87/160 (54.375%)\n",
      "Images [320/6680 (5%)] Loss: 1.570 Accuracy: 189/320 (59.062%)\n",
      "Images [480/6680 (7%)] Loss: 1.439 Accuracy: 288/480 (60.000%)\n",
      "Images [640/6680 (10%)] Loss: 1.265 Accuracy: 391/640 (61.094%)\n",
      "Images [800/6680 (12%)] Loss: 1.527 Accuracy: 486/800 (60.750%)\n",
      "Images [960/6680 (14%)] Loss: 1.625 Accuracy: 589/960 (61.354%)\n",
      "Images [1120/6680 (17%)] Loss: 1.067 Accuracy: 696/1120 (62.143%)\n",
      "Images [1280/6680 (19%)] Loss: 1.185 Accuracy: 802/1280 (62.656%)\n",
      "Phase training, Epoc loss 1.449, Epoc accuracy 63.467\n",
      "Images [160/835 (19%)] Loss: 1.256 Accuracy: 107/160 (66.875%)\n",
      "Phase validation, Epoc loss 1.253, Epoc accuracy 66.146\n",
      "1.2527604500452678 1.8250403602917988\n",
      "Epoch 4 ...\n",
      "Images [160/6680 (2%)] Loss: 0.766 Accuracy: 106/160 (66.250%)\n",
      "Images [320/6680 (5%)] Loss: 1.413 Accuracy: 216/320 (67.500%)\n",
      "Images [480/6680 (7%)] Loss: 1.090 Accuracy: 314/480 (65.417%)\n",
      "Images [640/6680 (10%)] Loss: 1.233 Accuracy: 426/640 (66.562%)\n",
      "Images [800/6680 (12%)] Loss: 0.824 Accuracy: 547/800 (68.375%)\n",
      "Images [960/6680 (14%)] Loss: 1.221 Accuracy: 657/960 (68.438%)\n",
      "Images [1120/6680 (17%)] Loss: 1.336 Accuracy: 755/1120 (67.411%)\n",
      "Images [1280/6680 (19%)] Loss: 0.924 Accuracy: 869/1280 (67.891%)\n",
      "Phase training, Epoc loss 1.110, Epoc accuracy 67.708\n",
      "Images [160/835 (19%)] Loss: 0.607 Accuracy: 116/160 (72.500%)\n",
      "Phase validation, Epoc loss 0.896, Epoc accuracy 70.312\n",
      "0.8959325154622396 1.2527604500452678\n",
      "Epoch 5 ...\n",
      "Images [160/6680 (2%)] Loss: 1.043 Accuracy: 120/160 (75.000%)\n",
      "Images [320/6680 (5%)] Loss: 0.783 Accuracy: 239/320 (74.688%)\n",
      "Images [480/6680 (7%)] Loss: 0.879 Accuracy: 356/480 (74.167%)\n",
      "Images [640/6680 (10%)] Loss: 0.804 Accuracy: 477/640 (74.531%)\n",
      "Images [800/6680 (12%)] Loss: 0.873 Accuracy: 600/800 (75.000%)\n",
      "Images [960/6680 (14%)] Loss: 0.819 Accuracy: 717/960 (74.688%)\n",
      "Images [1120/6680 (17%)] Loss: 1.052 Accuracy: 836/1120 (74.643%)\n",
      "Images [1280/6680 (19%)] Loss: 1.137 Accuracy: 952/1280 (74.375%)\n",
      "Phase training, Epoc loss 0.888, Epoc accuracy 74.182\n",
      "Images [160/835 (19%)] Loss: 0.597 Accuracy: 122/160 (76.250%)\n",
      "Phase validation, Epoc loss 0.861, Epoc accuracy 74.479\n",
      "0.8614922761917114 0.8959325154622396\n",
      "Epoch 6 ...\n",
      "Images [160/6680 (2%)] Loss: 0.848 Accuracy: 112/160 (70.000%)\n",
      "Images [320/6680 (5%)] Loss: 0.789 Accuracy: 239/320 (74.688%)\n",
      "Images [480/6680 (7%)] Loss: 1.152 Accuracy: 362/480 (75.417%)\n",
      "Images [640/6680 (10%)] Loss: 0.950 Accuracy: 476/640 (74.375%)\n",
      "Images [800/6680 (12%)] Loss: 0.851 Accuracy: 592/800 (74.000%)\n",
      "Images [960/6680 (14%)] Loss: 0.829 Accuracy: 724/960 (75.417%)\n",
      "Images [1120/6680 (17%)] Loss: 0.667 Accuracy: 855/1120 (76.339%)\n",
      "Images [1280/6680 (19%)] Loss: 0.667 Accuracy: 973/1280 (76.016%)\n",
      "Phase training, Epoc loss 0.790, Epoc accuracy 76.190\n",
      "Images [160/835 (19%)] Loss: 0.533 Accuracy: 128/160 (80.000%)\n",
      "Phase validation, Epoc loss 0.662, Epoc accuracy 79.688\n",
      "0.6624161203702291 0.8614922761917114\n",
      "Epoch 7 ...\n",
      "Images [160/6680 (2%)] Loss: 0.879 Accuracy: 126/160 (78.750%)\n",
      "Images [320/6680 (5%)] Loss: 0.634 Accuracy: 254/320 (79.375%)\n",
      "Images [480/6680 (7%)] Loss: 0.590 Accuracy: 384/480 (80.000%)\n",
      "Images [640/6680 (10%)] Loss: 0.707 Accuracy: 502/640 (78.438%)\n",
      "Images [800/6680 (12%)] Loss: 0.475 Accuracy: 623/800 (77.875%)\n",
      "Images [960/6680 (14%)] Loss: 0.681 Accuracy: 756/960 (78.750%)\n",
      "Images [1120/6680 (17%)] Loss: 0.528 Accuracy: 880/1120 (78.571%)\n",
      "Images [1280/6680 (19%)] Loss: 0.463 Accuracy: 1007/1280 (78.672%)\n",
      "Phase training, Epoc loss 0.695, Epoc accuracy 78.497\n",
      "Images [160/835 (19%)] Loss: 0.612 Accuracy: 123/160 (76.875%)\n",
      "Phase validation, Epoc loss 0.700, Epoc accuracy 78.125\n",
      "0.6999929845333099 0.6624161203702291\n",
      "Loss of validation model started to increase\n",
      "Saving the model to path /opt/ml/model/model.pth\n"
     ]
    }
   ],
   "source": [
    "import os\n",
    "import numpy as np\n",
    "import torch\n",
    "import torch.nn as nn\n",
    "import torch.optim as optim\n",
    "import torchvision\n",
    "import torchvision.models as models\n",
    "import torchvision.transforms as transforms\n",
    "\n",
    "import argparse\n",
    "\n",
    "TRAIN ='train'\n",
    "VALIDATION = 'val'\n",
    "\n",
    "MAX_SAMPLES_PROPORTION = 0.2\n",
    "THESHOLD_LOGGING_SAMPLES = 20\n",
    "\n",
    "def log_metrics(loss, running_corrects, running_samples, total_samples):\n",
    "    accuracy = running_corrects / running_samples\n",
    "    print(\"Images [{}/{} ({:.0f}%)] Loss: {:.3f} Accuracy: {}/{} ({:.3f}%)\".format(\n",
    "        running_samples,\n",
    "        total_samples,\n",
    "        100.0 * (running_samples / total_samples),\n",
    "        loss.item(),\n",
    "        running_corrects,\n",
    "        running_samples,\n",
    "        100.0 * accuracy,\n",
    "        )\n",
    "    )\n",
    "    \n",
    "def test(model, test_loader, criterion):\n",
    "    print(\"Testing Model on Whole Testing Dataset\")\n",
    "    model.eval()\n",
    "    running_loss = 0\n",
    "    running_corrects = 0\n",
    "    running_samples = 0\n",
    "    total_samples = len(test_loader.dataset)\n",
    "\n",
    "    for inputs, labels in test_loader:\n",
    "        outputs = model(inputs)\n",
    "        loss = criterion(outputs, labels)\n",
    "        _, preds = torch.max(outputs, 1)\n",
    "        running_loss += loss.item() * inputs.size(0)\n",
    "        running_corrects += torch.sum(preds == labels.data).item()\n",
    "        running_samples += len(inputs)\n",
    "        \n",
    "        #NOTE: Comment lines below to train and test on whole dataset\n",
    "        if running_samples > (MAX_SAMPLES_PROPORTION * total_samples):\n",
    "            break\n",
    "\n",
    "    total_loss = running_loss / len(test_loader.dataset)\n",
    "    total_acc = running_corrects / len(test_loader.dataset)\n",
    "    print(f\"Testing Accuracy: {100*total_acc:.3f}, Testing Loss: {total_loss:.3f}\")\n",
    "\n",
    "\n",
    "def validate(model, validation_loader, criterion):\n",
    "    model.eval()\n",
    "    running_loss = 0\n",
    "    running_corrects = 0\n",
    "    running_samples = 0\n",
    "    total_samples = len(validation_loader.dataset)\n",
    "\n",
    "    for inputs, labels in validation_loader:\n",
    "        outputs = model(inputs)\n",
    "        loss = criterion(outputs, labels)\n",
    "\n",
    "        _, preds = torch.max(outputs, 1)\n",
    "        running_loss += loss.item() * inputs.size(0)\n",
    "        running_corrects += torch.sum(preds == labels.data).item()\n",
    "        running_samples += len(inputs)\n",
    "        if running_samples % THESHOLD_LOGGING_SAMPLES == 0:\n",
    "            log_metrics(loss, running_corrects, running_samples, total_samples)\n",
    "            \n",
    "        #NOTE: Comment lines below to train and test on whole dataset\n",
    "        if running_samples > (MAX_SAMPLES_PROPORTION * total_samples):\n",
    "            break\n",
    "\n",
    "    epoch_loss = running_loss / running_samples\n",
    "    epoch_acc = running_corrects / running_samples\n",
    "    print(f\"Phase validation, Epoc loss {epoch_loss:.3f}, Epoc accuracy {100*epoch_acc:.3f}\")\n",
    "    return epoch_loss\n",
    "\n",
    "\n",
    "def train(model, train_loader, criterion, optimizer):\n",
    "    model.train()\n",
    "\n",
    "    running_loss = 0.0\n",
    "    running_corrects = 0\n",
    "    running_samples = 0\n",
    "    total_samples = len(train_loader.dataset)\n",
    "\n",
    "    for inputs, labels in train_loader:\n",
    "        outputs = model(inputs)\n",
    "        loss = criterion(outputs, labels)\n",
    "\n",
    "        optimizer.zero_grad()\n",
    "        loss.backward()\n",
    "        optimizer.step()\n",
    "\n",
    "        _, preds = torch.max(outputs, 1)\n",
    "        running_loss += loss.item() * inputs.size(0)\n",
    "        running_corrects += torch.sum(preds == labels.data).item()\n",
    "        running_samples += len(inputs)\n",
    "        if running_samples % THESHOLD_LOGGING_SAMPLES == 0:\n",
    "            log_metrics(loss, running_corrects, running_samples, total_samples)\n",
    "\n",
    "        #NOTE: Comment lines below to train and test on whole dataset\n",
    "        if running_samples > (MAX_SAMPLES_PROPORTION * total_samples ):\n",
    "            break\n",
    "\n",
    "    epoch_loss = running_loss / running_samples\n",
    "    epoch_acc = running_corrects / running_samples\n",
    "    print(f\"Phase training, Epoc loss {epoch_loss:.3f}, Epoc accuracy {100*epoch_acc:.3f}\")\n",
    "    return epoch_loss\n",
    "\n",
    "def train_with_early_stopping(model, datasets_loader, epochs, loss_criterion, optimizer):\n",
    "    best_loss = 1e6\n",
    "    print(f\"Training Model on {MAX_SAMPLES_PROPORTION*100}% of the Dataset\")\n",
    "    \n",
    "    for epoch in range(1, epochs + 1):\n",
    "        print(f\"Epoch {epoch} ...\")\n",
    "        _ = train(model, datasets_loader[TRAIN], loss_criterion, optimizer)\n",
    "        validate_epoch_loss = validate(model, datasets_loader[VALIDATION], loss_criterion)\n",
    "        print(validate_epoch_loss, best_loss)\n",
    "        if validate_epoch_loss < best_loss:\n",
    "            best_loss = validate_epoch_loss\n",
    "        else:\n",
    "            print('Loss of validation model started to increase')\n",
    "            break\n",
    "\n",
    "def net(num_classes: int):\n",
    "    '''Initializes a pretrained model'''\n",
    "    model = models.resnet50(pretrained=True)\n",
    "\n",
    "    # Freeze training of the convolutional layers\n",
    "    for param in model.parameters():\n",
    "        param.requires_grad = False   \n",
    "\n",
    "    # Override the last layer to adjust it to our problem\n",
    "    num_features=model.fc.in_features\n",
    "    model.fc = nn.Sequential(\n",
    "        nn.Linear(num_features, 1024),\n",
    "        nn.ReLU(inplace=True),\n",
    "        nn.Linear(1024, num_classes)\n",
    "    )\n",
    "    \n",
    "    return model\n",
    "\n",
    "\n",
    "def create_data_loaders(train_data_dir: str, valid_data_dir: str, batch_size: int):\n",
    "    '''Create pytorch data loaders'''\n",
    "     \n",
    "    data_dir = { TRAIN: train_data_dir, VALIDATION: valid_data_dir}\n",
    "    \n",
    "        \n",
    "    data_transforms = {\n",
    "        TRAIN: transforms.Compose([\n",
    "            transforms.Resize(256),\n",
    "            transforms.CenterCrop(224),\n",
    "            transforms.RandomHorizontalFlip(),\n",
    "            transforms.ToTensor(),\n",
    "            transforms.Normalize([0.485, 0.456, 0.406], [0.229, 0.224, 0.225])\n",
    "        ]),\n",
    "        VALIDATION: transforms.Compose([\n",
    "            transforms.Resize(256),\n",
    "            transforms.CenterCrop(224),\n",
    "            transforms.ToTensor(),\n",
    "            transforms.Normalize([0.485, 0.456, 0.406], [0.229, 0.224, 0.225])\n",
    "        ]),\n",
    "    }\n",
    "   \n",
    "    #     transform_steps = [ \n",
    "    #         transforms.Resize((224,224)),\n",
    "    #         transforms.CenterCrop(224),\n",
    "    #         transforms.ToTensor(),\n",
    "    #         transforms.Normalize([0.485, 0.456, 0.406], [0.229, 0.224, 0.225])]\n",
    "\n",
    "    #     data_transforms = {\n",
    "    #         TRAIN: transforms.Compose([ transforms.RandomHorizontalFlip(), *transform_steps]),\n",
    "    #         VALIDATION: transforms.Compose(transform_steps)\n",
    "    #     }\n",
    "\n",
    "    image_datasets = {}\n",
    "    dataloaders = {}\n",
    "    for x in [TRAIN, VALIDATION]:\n",
    "        \n",
    "        image_datasets[x] = torchvision.datasets.ImageFolder(data_dir[x], data_transforms[x])\n",
    "        dataloaders[x] = torch.utils.data.DataLoader(\n",
    "            image_datasets[x], batch_size=batch_size, shuffle=True, num_workers=2)\n",
    "        \n",
    "    return dataloaders\n",
    "\n",
    "def get_num_classes(dataloader) -> int:\n",
    "        return len(dataloader[TRAIN].dataset.classes)\n",
    "    \n",
    "def save_model(model, model_dir):\n",
    "    path = os.path.join(model_dir, \"model.pth\")\n",
    "    print(f\"Saving the model to path {path}\")\n",
    "    torch.save(model.state_dict(), path)\n",
    "\n",
    "def main(args):\n",
    "    \n",
    "    from PIL import ImageFile\n",
    "    ImageFile.LOAD_TRUNCATED_IMAGES = True\n",
    "    \n",
    "    dataset_loaders = create_data_loaders(args.data_dir_train, args.data_dir_validation, args.batch_size)\n",
    "    \n",
    "    num_classes = get_num_classes(dataset_loaders)\n",
    "    model=net(num_classes)\n",
    "    loss_criterion = nn.CrossEntropyLoss()\n",
    "    optimizer =  optim.Adam(model.fc.parameters(), lr=args.lr)\n",
    "    \n",
    "    train_with_early_stopping(model, dataset_loaders, args.epochs, loss_criterion, optimizer)\n",
    "    save_model(model, args.model_dir)\n",
    "\n",
    "# def model_fn(model_dir):\n",
    "#     model = Net()\n",
    "#     with open(os.path.join(model_dir, \"model.pth\"), \"rb\") as f:\n",
    "#         model.load_state_dict(torch.load(f))\n",
    "#     return model\n",
    "\n",
    "\n",
    "if __name__=='__main__':\n",
    "    parser=argparse.ArgumentParser(description=\"Training Job for Hyperparameter tuning\")\n",
    "    \n",
    "    parser.add_argument(\n",
    "        \"--batch-size\",\n",
    "        type=int,\n",
    "        default=64,\n",
    "        metavar=\"N\",\n",
    "        help=\"input batch size for training (default: 64)\",\n",
    "    )\n",
    "\n",
    "    parser.add_argument(\n",
    "        \"--epochs\",\n",
    "        type=int,\n",
    "        default=14,\n",
    "        metavar=\"N\",\n",
    "        help=\"number of epochs to train (default: 14)\",\n",
    "    )\n",
    "    parser.add_argument(\n",
    "        \"--lr\", type=float, default=1.0, metavar=\"LR\", help=\"learning rate (default: 1.0)\"\n",
    "    )\n",
    "\n",
    "    \n",
    "    # Container environment\n",
    "#     parser.add_argument(\"--hosts\", type=list, default=json.loads(os.environ[\"SM_HOSTS\"]))\n",
    "#     parser.add_argument(\"--current-host\", type=str, default=os.environ[\"SM_CURRENT_HOST\"])\n",
    "    parser.add_argument(\"--model-dir\", type=str, default=os.environ[\"SM_MODEL_DIR\"])\n",
    "    parser.add_argument(\"--data-dir-train\", type=str, default=os.environ[\"SM_CHANNEL_TRAINING\"])\n",
    "    #parser.add_argument(\"--data-dir-test\", type=str, default=os.environ[\"SM_CHANNEL_TESTING\"])\n",
    "    parser.add_argument(\"--data-dir-validation\", type=str, default=os.environ[\"SM_CHANNEL_VALIDATION\"])\n",
    "#     parser.add_argument(\"--num-gpus\", type=int, default=os.environ[\"SM_NUM_GPUS\"])\n",
    "    \n",
    "    args = parser.parse_args()\n",
    "    \n",
    "    #     from PIL import ImageFile\n",
    "    #     ImageFile.LOAD_TRUNCATED_IMAGES = True\n",
    "    #     dataset_loaders = create_data_loaders(args.data_dir_train, args.data_dir_validation, args.batch_size)\n",
    "\n",
    "\n",
    "    #     for data in dataset_loaders[TRAIN]:\n",
    "    #         pass\n",
    "    #     print(\"ok\")\n",
    "        \n",
    "    main(args)"
   ]
  },
  {
   "cell_type": "code",
   "execution_count": 22,
   "id": "f52ca77c-8d91-4a53-899c-078ee79079f4",
   "metadata": {
    "tags": []
   },
   "outputs": [],
   "source": [
    "! rm -r /opt/ml/output/tensors"
   ]
  },
  {
   "cell_type": "code",
   "execution_count": 24,
   "id": "a128b0a1-0ee6-4e86-8903-3148bc42825b",
   "metadata": {
    "tags": []
   },
   "outputs": [
    {
     "name": "stdout",
     "output_type": "stream",
     "text": [
      "config\tinput  model.pth\n"
     ]
    }
   ],
   "source": [
    "! ls /opt/ml/model"
   ]
  },
  {
   "cell_type": "markdown",
   "id": "excellent-compound",
   "metadata": {},
   "source": [
    "## TEST"
   ]
  },
  {
   "cell_type": "markdown",
   "id": "quantitative-civilization",
   "metadata": {},
   "source": [
    "### Arguments"
   ]
  },
  {
   "cell_type": "code",
   "execution_count": 4,
   "id": "divine-infrared",
   "metadata": {
    "tags": []
   },
   "outputs": [
    {
     "name": "stdout",
     "output_type": "stream",
     "text": [
      "chown: invalid user: ‘ec2-user:ec2-user’\n"
     ]
    }
   ],
   "source": [
    "import sys\n",
    "import os\n",
    "\n",
    "sys.argv = [\"hpo.py\", \"--batch-size\", \"32\", \"--lr\", \"0.001\"]\n",
    "\n",
    "os.environ['SM_CHANNEL_TRAINING'] = \"../project-files/dogImages/train\"\n",
    "os.environ['SM_CHANNEL_VALIDATION'] = \"../project-files/dogImages/valid\"\n",
    "#os.environ['SM_CHANNEL_TESTING'] = \"../project-files/dogImages/test\"\n",
    "os.environ['SM_MODEL_DIR'] = \"/opt/ml/model\"\n",
    "\n",
    "! mkdir /opt/ml/model\n",
    "! chown -R ec2-user:ec2-user /opt/ml/model # give ownership to the current EC2 user"
   ]
  },
  {
   "cell_type": "markdown",
   "id": "metric-inspection",
   "metadata": {},
   "source": [
    "### Data loaders"
   ]
  },
  {
   "cell_type": "code",
   "execution_count": 36,
   "id": "southeast-experiment",
   "metadata": {
    "tags": []
   },
   "outputs": [],
   "source": [
    "%matplotlib inline\n",
    "\n",
    "import matplotlib.pyplot as plt\n",
    "\n",
    "data_loaders = create_data_loaders(\"./dogImages/test\", \"./dogImages/test\", 30)"
   ]
  },
  {
   "cell_type": "code",
   "execution_count": 37,
   "id": "5b9a7f46-7fd7-4683-bdac-38df1ca15c48",
   "metadata": {
    "tags": []
   },
   "outputs": [
    {
     "data": {
      "text/plain": [
       "{'train': <torch.utils.data.dataloader.DataLoader at 0x7fa02ae8e898>,\n",
       " 'val': <torch.utils.data.dataloader.DataLoader at 0x7fa02ae8e908>}"
      ]
     },
     "execution_count": 37,
     "metadata": {},
     "output_type": "execute_result"
    }
   ],
   "source": [
    "data_loaders"
   ]
  },
  {
   "cell_type": "markdown",
   "id": "4914c525-0936-42bd-ac9e-0a2ea40ea548",
   "metadata": {},
   "source": [
    "Checking one batch:"
   ]
  },
  {
   "cell_type": "code",
   "execution_count": 39,
   "id": "hundred-breath",
   "metadata": {
    "tags": []
   },
   "outputs": [],
   "source": [
    "batch = next(iter(data_loaders['train']))"
   ]
  },
  {
   "cell_type": "code",
   "execution_count": 40,
   "id": "entertaining-lottery",
   "metadata": {
    "tags": []
   },
   "outputs": [
    {
     "data": {
      "text/plain": [
       "(torch.Size([30, 3, 224, 224]), torch.Size([30]))"
      ]
     },
     "execution_count": 40,
     "metadata": {},
     "output_type": "execute_result"
    }
   ],
   "source": [
    "batch[0].shape,  batch[1].shape"
   ]
  },
  {
   "cell_type": "markdown",
   "id": "ac186c81-c795-4f26-841a-3322a04c0300",
   "metadata": {},
   "source": [
    "This batch contains 30 images, with 3 channels, and each image is of size 224 by 224. There are 30 labels associated to each image."
   ]
  },
  {
   "cell_type": "markdown",
   "id": "baee71ca-4e39-4918-8923-d4f29b3922fb",
   "metadata": {},
   "source": [
    "Checking one image (and the transformation):"
   ]
  },
  {
   "cell_type": "code",
   "execution_count": 41,
   "id": "objective-temple",
   "metadata": {
    "tags": []
   },
   "outputs": [
    {
     "data": {
      "text/plain": [
       "(torch.Size([3, 224, 224]), torch.Size([224, 224, 3]))"
      ]
     },
     "execution_count": 41,
     "metadata": {},
     "output_type": "execute_result"
    }
   ],
   "source": [
    "batch[0][0].shape, batch[0][0].permute(1, 2, 0).shape"
   ]
  },
  {
   "cell_type": "code",
   "execution_count": 42,
   "id": "suburban-sense",
   "metadata": {
    "tags": []
   },
   "outputs": [
    {
     "name": "stderr",
     "output_type": "stream",
     "text": [
      "WARNING:matplotlib.image:Clipping input data to the valid range for imshow with RGB data ([0..1] for floats or [0..255] for integers).\n"
     ]
    },
    {
     "data": {
      "image/png": "[encoded data removed]",
      "text/plain": [
       "<Figure size 432x288 with 1 Axes>"
      ]
     },
     "metadata": {
      "needs_background": "light"
     },
     "output_type": "display_data"
    }
   ],
   "source": [
    "image = batch[0][0].permute(1, 2, 0)\n",
    "breed = batch[1][0]\n",
    "\n",
    "plt.imshow(image);"
   ]
  },
  {
   "cell_type": "code",
   "execution_count": 53,
   "id": "45fcd21e-d917-4871-9f36-82dddf59cb5d",
   "metadata": {
    "tags": []
   },
   "outputs": [
    {
     "data": {
      "text/plain": [
       "tensor(37)"
      ]
     },
     "execution_count": 53,
     "metadata": {},
     "output_type": "execute_result"
    }
   ],
   "source": [
    "breed"
   ]
  },
  {
   "cell_type": "code",
   "execution_count": 54,
   "id": "double-counter",
   "metadata": {
    "tags": []
   },
   "outputs": [
    {
     "name": "stdout",
     "output_type": "stream",
     "text": [
      "Brussels_griffon_02656.jpg  Brussels_griffon_02701.jpg\n",
      "Brussels_griffon_02667.jpg  Brussels_griffon_02707.jpg\n",
      "Brussels_griffon_02678.jpg  Brussels_griffon_02716.jpg\n",
      "Brussels_griffon_02699.jpg\n"
     ]
    }
   ],
   "source": [
    "!ls ./dogImages/test/0{breed + 1}.*"
   ]
  },
  {
   "cell_type": "markdown",
   "id": "special-boost",
   "metadata": {},
   "source": [
    "### Base Model "
   ]
  },
  {
   "cell_type": "code",
   "execution_count": 57,
   "id": "f3c9c2df-dfa4-4bbf-aa3e-4fc7f474b672",
   "metadata": {
    "tags": []
   },
   "outputs": [
    {
     "data": {
      "text/plain": [
       "133"
      ]
     },
     "execution_count": 57,
     "metadata": {},
     "output_type": "execute_result"
    }
   ],
   "source": [
    "num_classes =len( data_loaders['train'].dataset.classes)\n",
    "num_classes"
   ]
  },
  {
   "cell_type": "code",
   "execution_count": 58,
   "id": "4aca1c95-abc6-402c-94f1-6315fd575e53",
   "metadata": {
    "tags": []
   },
   "outputs": [
    {
     "data": {
      "text/plain": [
       "torchvision.models.resnet.ResNet"
      ]
     },
     "execution_count": 58,
     "metadata": {},
     "output_type": "execute_result"
    }
   ],
   "source": [
    "model = net(num_classes) #If it complain, specify the weights based on the official documentation\n",
    "type(model)"
   ]
  },
  {
   "cell_type": "code",
   "execution_count": 60,
   "id": "4a8c3eeb-d71c-4f5b-b23a-84c0420d20e8",
   "metadata": {
    "collapsed": true,
    "jupyter": {
     "outputs_hidden": true
    },
    "tags": []
   },
   "outputs": [
    {
     "data": {
      "text/plain": [
       "ResNet(\n",
       "  (conv1): Conv2d(3, 64, kernel_size=(7, 7), stride=(2, 2), padding=(3, 3), bias=False)\n",
       "  (bn1): BatchNorm2d(64, eps=1e-05, momentum=0.1, affine=True, track_running_stats=True)\n",
       "  (relu): ReLU(inplace=True)\n",
       "  (maxpool): MaxPool2d(kernel_size=3, stride=2, padding=1, dilation=1, ceil_mode=False)\n",
       "  (layer1): Sequential(\n",
       "    (0): Bottleneck(\n",
       "      (conv1): Conv2d(64, 64, kernel_size=(1, 1), stride=(1, 1), bias=False)\n",
       "      (bn1): BatchNorm2d(64, eps=1e-05, momentum=0.1, affine=True, track_running_stats=True)\n",
       "      (conv2): Conv2d(64, 64, kernel_size=(3, 3), stride=(1, 1), padding=(1, 1), bias=False)\n",
       "      (bn2): BatchNorm2d(64, eps=1e-05, momentum=0.1, affine=True, track_running_stats=True)\n",
       "      (conv3): Conv2d(64, 256, kernel_size=(1, 1), stride=(1, 1), bias=False)\n",
       "      (bn3): BatchNorm2d(256, eps=1e-05, momentum=0.1, affine=True, track_running_stats=True)\n",
       "      (relu): ReLU(inplace=True)\n",
       "      (downsample): Sequential(\n",
       "        (0): Conv2d(64, 256, kernel_size=(1, 1), stride=(1, 1), bias=False)\n",
       "        (1): BatchNorm2d(256, eps=1e-05, momentum=0.1, affine=True, track_running_stats=True)\n",
       "      )\n",
       "    )\n",
       "    (1): Bottleneck(\n",
       "      (conv1): Conv2d(256, 64, kernel_size=(1, 1), stride=(1, 1), bias=False)\n",
       "      (bn1): BatchNorm2d(64, eps=1e-05, momentum=0.1, affine=True, track_running_stats=True)\n",
       "      (conv2): Conv2d(64, 64, kernel_size=(3, 3), stride=(1, 1), padding=(1, 1), bias=False)\n",
       "      (bn2): BatchNorm2d(64, eps=1e-05, momentum=0.1, affine=True, track_running_stats=True)\n",
       "      (conv3): Conv2d(64, 256, kernel_size=(1, 1), stride=(1, 1), bias=False)\n",
       "      (bn3): BatchNorm2d(256, eps=1e-05, momentum=0.1, affine=True, track_running_stats=True)\n",
       "      (relu): ReLU(inplace=True)\n",
       "    )\n",
       "    (2): Bottleneck(\n",
       "      (conv1): Conv2d(256, 64, kernel_size=(1, 1), stride=(1, 1), bias=False)\n",
       "      (bn1): BatchNorm2d(64, eps=1e-05, momentum=0.1, affine=True, track_running_stats=True)\n",
       "      (conv2): Conv2d(64, 64, kernel_size=(3, 3), stride=(1, 1), padding=(1, 1), bias=False)\n",
       "      (bn2): BatchNorm2d(64, eps=1e-05, momentum=0.1, affine=True, track_running_stats=True)\n",
       "      (conv3): Conv2d(64, 256, kernel_size=(1, 1), stride=(1, 1), bias=False)\n",
       "      (bn3): BatchNorm2d(256, eps=1e-05, momentum=0.1, affine=True, track_running_stats=True)\n",
       "      (relu): ReLU(inplace=True)\n",
       "    )\n",
       "  )\n",
       "  (layer2): Sequential(\n",
       "    (0): Bottleneck(\n",
       "      (conv1): Conv2d(256, 128, kernel_size=(1, 1), stride=(1, 1), bias=False)\n",
       "      (bn1): BatchNorm2d(128, eps=1e-05, momentum=0.1, affine=True, track_running_stats=True)\n",
       "      (conv2): Conv2d(128, 128, kernel_size=(3, 3), stride=(2, 2), padding=(1, 1), bias=False)\n",
       "      (bn2): BatchNorm2d(128, eps=1e-05, momentum=0.1, affine=True, track_running_stats=True)\n",
       "      (conv3): Conv2d(128, 512, kernel_size=(1, 1), stride=(1, 1), bias=False)\n",
       "      (bn3): BatchNorm2d(512, eps=1e-05, momentum=0.1, affine=True, track_running_stats=True)\n",
       "      (relu): ReLU(inplace=True)\n",
       "      (downsample): Sequential(\n",
       "        (0): Conv2d(256, 512, kernel_size=(1, 1), stride=(2, 2), bias=False)\n",
       "        (1): BatchNorm2d(512, eps=1e-05, momentum=0.1, affine=True, track_running_stats=True)\n",
       "      )\n",
       "    )\n",
       "    (1): Bottleneck(\n",
       "      (conv1): Conv2d(512, 128, kernel_size=(1, 1), stride=(1, 1), bias=False)\n",
       "      (bn1): BatchNorm2d(128, eps=1e-05, momentum=0.1, affine=True, track_running_stats=True)\n",
       "      (conv2): Conv2d(128, 128, kernel_size=(3, 3), stride=(1, 1), padding=(1, 1), bias=False)\n",
       "      (bn2): BatchNorm2d(128, eps=1e-05, momentum=0.1, affine=True, track_running_stats=True)\n",
       "      (conv3): Conv2d(128, 512, kernel_size=(1, 1), stride=(1, 1), bias=False)\n",
       "      (bn3): BatchNorm2d(512, eps=1e-05, momentum=0.1, affine=True, track_running_stats=True)\n",
       "      (relu): ReLU(inplace=True)\n",
       "    )\n",
       "    (2): Bottleneck(\n",
       "      (conv1): Conv2d(512, 128, kernel_size=(1, 1), stride=(1, 1), bias=False)\n",
       "      (bn1): BatchNorm2d(128, eps=1e-05, momentum=0.1, affine=True, track_running_stats=True)\n",
       "      (conv2): Conv2d(128, 128, kernel_size=(3, 3), stride=(1, 1), padding=(1, 1), bias=False)\n",
       "      (bn2): BatchNorm2d(128, eps=1e-05, momentum=0.1, affine=True, track_running_stats=True)\n",
       "      (conv3): Conv2d(128, 512, kernel_size=(1, 1), stride=(1, 1), bias=False)\n",
       "      (bn3): BatchNorm2d(512, eps=1e-05, momentum=0.1, affine=True, track_running_stats=True)\n",
       "      (relu): ReLU(inplace=True)\n",
       "    )\n",
       "    (3): Bottleneck(\n",
       "      (conv1): Conv2d(512, 128, kernel_size=(1, 1), stride=(1, 1), bias=False)\n",
       "      (bn1): BatchNorm2d(128, eps=1e-05, momentum=0.1, affine=True, track_running_stats=True)\n",
       "      (conv2): Conv2d(128, 128, kernel_size=(3, 3), stride=(1, 1), padding=(1, 1), bias=False)\n",
       "      (bn2): BatchNorm2d(128, eps=1e-05, momentum=0.1, affine=True, track_running_stats=True)\n",
       "      (conv3): Conv2d(128, 512, kernel_size=(1, 1), stride=(1, 1), bias=False)\n",
       "      (bn3): BatchNorm2d(512, eps=1e-05, momentum=0.1, affine=True, track_running_stats=True)\n",
       "      (relu): ReLU(inplace=True)\n",
       "    )\n",
       "  )\n",
       "  (layer3): Sequential(\n",
       "    (0): Bottleneck(\n",
       "      (conv1): Conv2d(512, 256, kernel_size=(1, 1), stride=(1, 1), bias=False)\n",
       "      (bn1): BatchNorm2d(256, eps=1e-05, momentum=0.1, affine=True, track_running_stats=True)\n",
       "      (conv2): Conv2d(256, 256, kernel_size=(3, 3), stride=(2, 2), padding=(1, 1), bias=False)\n",
       "      (bn2): BatchNorm2d(256, eps=1e-05, momentum=0.1, affine=True, track_running_stats=True)\n",
       "      (conv3): Conv2d(256, 1024, kernel_size=(1, 1), stride=(1, 1), bias=False)\n",
       "      (bn3): BatchNorm2d(1024, eps=1e-05, momentum=0.1, affine=True, track_running_stats=True)\n",
       "      (relu): ReLU(inplace=True)\n",
       "      (downsample): Sequential(\n",
       "        (0): Conv2d(512, 1024, kernel_size=(1, 1), stride=(2, 2), bias=False)\n",
       "        (1): BatchNorm2d(1024, eps=1e-05, momentum=0.1, affine=True, track_running_stats=True)\n",
       "      )\n",
       "    )\n",
       "    (1): Bottleneck(\n",
       "      (conv1): Conv2d(1024, 256, kernel_size=(1, 1), stride=(1, 1), bias=False)\n",
       "      (bn1): BatchNorm2d(256, eps=1e-05, momentum=0.1, affine=True, track_running_stats=True)\n",
       "      (conv2): Conv2d(256, 256, kernel_size=(3, 3), stride=(1, 1), padding=(1, 1), bias=False)\n",
       "      (bn2): BatchNorm2d(256, eps=1e-05, momentum=0.1, affine=True, track_running_stats=True)\n",
       "      (conv3): Conv2d(256, 1024, kernel_size=(1, 1), stride=(1, 1), bias=False)\n",
       "      (bn3): BatchNorm2d(1024, eps=1e-05, momentum=0.1, affine=True, track_running_stats=True)\n",
       "      (relu): ReLU(inplace=True)\n",
       "    )\n",
       "    (2): Bottleneck(\n",
       "      (conv1): Conv2d(1024, 256, kernel_size=(1, 1), stride=(1, 1), bias=False)\n",
       "      (bn1): BatchNorm2d(256, eps=1e-05, momentum=0.1, affine=True, track_running_stats=True)\n",
       "      (conv2): Conv2d(256, 256, kernel_size=(3, 3), stride=(1, 1), padding=(1, 1), bias=False)\n",
       "      (bn2): BatchNorm2d(256, eps=1e-05, momentum=0.1, affine=True, track_running_stats=True)\n",
       "      (conv3): Conv2d(256, 1024, kernel_size=(1, 1), stride=(1, 1), bias=False)\n",
       "      (bn3): BatchNorm2d(1024, eps=1e-05, momentum=0.1, affine=True, track_running_stats=True)\n",
       "      (relu): ReLU(inplace=True)\n",
       "    )\n",
       "    (3): Bottleneck(\n",
       "      (conv1): Conv2d(1024, 256, kernel_size=(1, 1), stride=(1, 1), bias=False)\n",
       "      (bn1): BatchNorm2d(256, eps=1e-05, momentum=0.1, affine=True, track_running_stats=True)\n",
       "      (conv2): Conv2d(256, 256, kernel_size=(3, 3), stride=(1, 1), padding=(1, 1), bias=False)\n",
       "      (bn2): BatchNorm2d(256, eps=1e-05, momentum=0.1, affine=True, track_running_stats=True)\n",
       "      (conv3): Conv2d(256, 1024, kernel_size=(1, 1), stride=(1, 1), bias=False)\n",
       "      (bn3): BatchNorm2d(1024, eps=1e-05, momentum=0.1, affine=True, track_running_stats=True)\n",
       "      (relu): ReLU(inplace=True)\n",
       "    )\n",
       "    (4): Bottleneck(\n",
       "      (conv1): Conv2d(1024, 256, kernel_size=(1, 1), stride=(1, 1), bias=False)\n",
       "      (bn1): BatchNorm2d(256, eps=1e-05, momentum=0.1, affine=True, track_running_stats=True)\n",
       "      (conv2): Conv2d(256, 256, kernel_size=(3, 3), stride=(1, 1), padding=(1, 1), bias=False)\n",
       "      (bn2): BatchNorm2d(256, eps=1e-05, momentum=0.1, affine=True, track_running_stats=True)\n",
       "      (conv3): Conv2d(256, 1024, kernel_size=(1, 1), stride=(1, 1), bias=False)\n",
       "      (bn3): BatchNorm2d(1024, eps=1e-05, momentum=0.1, affine=True, track_running_stats=True)\n",
       "      (relu): ReLU(inplace=True)\n",
       "    )\n",
       "    (5): Bottleneck(\n",
       "      (conv1): Conv2d(1024, 256, kernel_size=(1, 1), stride=(1, 1), bias=False)\n",
       "      (bn1): BatchNorm2d(256, eps=1e-05, momentum=0.1, affine=True, track_running_stats=True)\n",
       "      (conv2): Conv2d(256, 256, kernel_size=(3, 3), stride=(1, 1), padding=(1, 1), bias=False)\n",
       "      (bn2): BatchNorm2d(256, eps=1e-05, momentum=0.1, affine=True, track_running_stats=True)\n",
       "      (conv3): Conv2d(256, 1024, kernel_size=(1, 1), stride=(1, 1), bias=False)\n",
       "      (bn3): BatchNorm2d(1024, eps=1e-05, momentum=0.1, affine=True, track_running_stats=True)\n",
       "      (relu): ReLU(inplace=True)\n",
       "    )\n",
       "  )\n",
       "  (layer4): Sequential(\n",
       "    (0): Bottleneck(\n",
       "      (conv1): Conv2d(1024, 512, kernel_size=(1, 1), stride=(1, 1), bias=False)\n",
       "      (bn1): BatchNorm2d(512, eps=1e-05, momentum=0.1, affine=True, track_running_stats=True)\n",
       "      (conv2): Conv2d(512, 512, kernel_size=(3, 3), stride=(2, 2), padding=(1, 1), bias=False)\n",
       "      (bn2): BatchNorm2d(512, eps=1e-05, momentum=0.1, affine=True, track_running_stats=True)\n",
       "      (conv3): Conv2d(512, 2048, kernel_size=(1, 1), stride=(1, 1), bias=False)\n",
       "      (bn3): BatchNorm2d(2048, eps=1e-05, momentum=0.1, affine=True, track_running_stats=True)\n",
       "      (relu): ReLU(inplace=True)\n",
       "      (downsample): Sequential(\n",
       "        (0): Conv2d(1024, 2048, kernel_size=(1, 1), stride=(2, 2), bias=False)\n",
       "        (1): BatchNorm2d(2048, eps=1e-05, momentum=0.1, affine=True, track_running_stats=True)\n",
       "      )\n",
       "    )\n",
       "    (1): Bottleneck(\n",
       "      (conv1): Conv2d(2048, 512, kernel_size=(1, 1), stride=(1, 1), bias=False)\n",
       "      (bn1): BatchNorm2d(512, eps=1e-05, momentum=0.1, affine=True, track_running_stats=True)\n",
       "      (conv2): Conv2d(512, 512, kernel_size=(3, 3), stride=(1, 1), padding=(1, 1), bias=False)\n",
       "      (bn2): BatchNorm2d(512, eps=1e-05, momentum=0.1, affine=True, track_running_stats=True)\n",
       "      (conv3): Conv2d(512, 2048, kernel_size=(1, 1), stride=(1, 1), bias=False)\n",
       "      (bn3): BatchNorm2d(2048, eps=1e-05, momentum=0.1, affine=True, track_running_stats=True)\n",
       "      (relu): ReLU(inplace=True)\n",
       "    )\n",
       "    (2): Bottleneck(\n",
       "      (conv1): Conv2d(2048, 512, kernel_size=(1, 1), stride=(1, 1), bias=False)\n",
       "      (bn1): BatchNorm2d(512, eps=1e-05, momentum=0.1, affine=True, track_running_stats=True)\n",
       "      (conv2): Conv2d(512, 512, kernel_size=(3, 3), stride=(1, 1), padding=(1, 1), bias=False)\n",
       "      (bn2): BatchNorm2d(512, eps=1e-05, momentum=0.1, affine=True, track_running_stats=True)\n",
       "      (conv3): Conv2d(512, 2048, kernel_size=(1, 1), stride=(1, 1), bias=False)\n",
       "      (bn3): BatchNorm2d(2048, eps=1e-05, momentum=0.1, affine=True, track_running_stats=True)\n",
       "      (relu): ReLU(inplace=True)\n",
       "    )\n",
       "  )\n",
       "  (avgpool): AdaptiveAvgPool2d(output_size=(1, 1))\n",
       "  (fc): Sequential(\n",
       "    (0): Linear(in_features=2048, out_features=133, bias=True)\n",
       "  )\n",
       ")"
      ]
     },
     "execution_count": 60,
     "metadata": {},
     "output_type": "execute_result"
    }
   ],
   "source": [
    "model"
   ]
  },
  {
   "cell_type": "markdown",
   "id": "1d8a0e0b-90dc-47bc-8dec-9853abd93603",
   "metadata": {},
   "source": [
    "### Produced model"
   ]
  },
  {
   "cell_type": "code",
   "execution_count": 28,
   "id": "3aef66c1-eca9-4f0a-aba0-f3da7245b439",
   "metadata": {
    "tags": []
   },
   "outputs": [
    {
     "data": {
      "text/plain": [
       "133"
      ]
     },
     "execution_count": 28,
     "metadata": {},
     "output_type": "execute_result"
    }
   ],
   "source": [
    "num_classes = get_num_classes(dataset_loaders)\n",
    "num_classes"
   ]
  },
  {
   "cell_type": "code",
   "execution_count": 33,
   "id": "55d0395b-cb6a-4459-a656-f2880a78c60c",
   "metadata": {
    "tags": []
   },
   "outputs": [],
   "source": [
    "def model_fn(model_dir):\n",
    "    model = net(133)\n",
    "    with open(os.path.join(model_dir, \"model.pth\"), \"rb\") as f:\n",
    "        model.load_state_dict(torch.load(f))\n",
    "    return model\n",
    "the_model = model_fn(\"/opt/ml/model\")"
   ]
  },
  {
   "cell_type": "code",
   "execution_count": 45,
   "id": "93626602-25c6-4a57-87bc-02aaf96c82e2",
   "metadata": {
    "tags": []
   },
   "outputs": [],
   "source": [
    "the_model.eval()\n",
    "with torch.no_grad():\n",
    "    inputs, labels = batch\n",
    "    prediction = the_model(inputs)\n",
    "    "
   ]
  },
  {
   "cell_type": "code",
   "execution_count": 49,
   "id": "532622d9-3713-46c8-8f7b-dd17fa06fbbf",
   "metadata": {
    "tags": []
   },
   "outputs": [
    {
     "data": {
      "text/plain": [
       "(torch.Size([30, 3, 224, 224]), torch.Size([30]))"
      ]
     },
     "execution_count": 49,
     "metadata": {},
     "output_type": "execute_result"
    }
   ],
   "source": [
    "inputs.shape, labels.shape"
   ]
  },
  {
   "cell_type": "code",
   "execution_count": 47,
   "id": "0c66c8b2-92cb-43b1-835f-c454b3c1b535",
   "metadata": {
    "tags": []
   },
   "outputs": [
    {
     "data": {
      "text/plain": [
       "torch.Size([30, 133])"
      ]
     },
     "execution_count": 47,
     "metadata": {},
     "output_type": "execute_result"
    }
   ],
   "source": [
    "prediction.shape"
   ]
  },
  {
   "cell_type": "code",
   "execution_count": 52,
   "id": "a4d07700-3d77-4519-a634-5964c1fdc2d6",
   "metadata": {
    "tags": []
   },
   "outputs": [
    {
     "data": {
      "text/plain": [
       "torch.Size([133])"
      ]
     },
     "execution_count": 52,
     "metadata": {},
     "output_type": "execute_result"
    }
   ],
   "source": [
    "prediction[0]"
   ]
  },
  {
   "cell_type": "code",
   "execution_count": 56,
   "id": "7f6d3ae6-d800-44f7-8d53-de62731dd295",
   "metadata": {
    "tags": []
   },
   "outputs": [
    {
     "data": {
      "text/plain": [
       "tensor([  0,  23,  61,  13, 123,  50,  95, 109, 116,  43,  10,  63,  96,  11,\n",
       "         44,  76,   4,  71,  13, 112,  78,  19,  89, 108,  66,  87,  16,  50,\n",
       "         68, 101])"
      ]
     },
     "execution_count": 56,
     "metadata": {},
     "output_type": "execute_result"
    }
   ],
   "source": [
    "_, preds = torch.max(prediction, 1)\n",
    "preds"
   ]
  },
  {
   "cell_type": "code",
   "execution_count": 57,
   "id": "3ad2df42-4a7b-4a8b-b42e-b1f51fff12bf",
   "metadata": {
    "tags": []
   },
   "outputs": [
    {
     "data": {
      "text/plain": [
       "tensor([  0,  23,  61,  13,   8,  50,  95, 109,  90, 102,  10,  63,  96,  72,\n",
       "         44,  76,   4, 121,  13, 112,  78,  19, 131, 108, 107,  87,  16,  50,\n",
       "         68,  58])"
      ]
     },
     "execution_count": 57,
     "metadata": {},
     "output_type": "execute_result"
    }
   ],
   "source": [
    "labels"
   ]
  },
  {
   "cell_type": "code",
   "execution_count": 61,
   "id": "4244d39d-30bd-4701-9432-0b107c59267b",
   "metadata": {
    "tags": []
   },
   "outputs": [
    {
     "data": {
      "text/plain": [
       "tensor(22)"
      ]
     },
     "execution_count": 61,
     "metadata": {},
     "output_type": "execute_result"
    }
   ],
   "source": [
    "torch.sum(preds == labels.data)"
   ]
  },
  {
   "cell_type": "code",
   "execution_count": 58,
   "id": "75e66dd7-d742-4653-9a4e-f6b2d1d7612e",
   "metadata": {
    "tags": []
   },
   "outputs": [
    {
     "data": {
      "text/plain": [
       "22"
      ]
     },
     "execution_count": 58,
     "metadata": {},
     "output_type": "execute_result"
    }
   ],
   "source": [
    "torch.sum(preds == labels.data).item()"
   ]
  },
  {
   "cell_type": "code",
   "execution_count": 59,
   "id": "304fc95d-7793-41cd-b84f-3cceb3f1962a",
   "metadata": {
    "tags": []
   },
   "outputs": [
    {
     "data": {
      "text/plain": [
       "0.7333333333333333"
      ]
     },
     "execution_count": 59,
     "metadata": {},
     "output_type": "execute_result"
    }
   ],
   "source": [
    "torch.sum(preds == labels.data).item() / len(labels)"
   ]
  },
  {
   "cell_type": "markdown",
   "id": "collective-force",
   "metadata": {},
   "source": [
    "### Test code with estimator"
   ]
  },
  {
   "cell_type": "code",
   "execution_count": 2,
   "id": "rocky-blank",
   "metadata": {
    "scrolled": true,
    "tags": []
   },
   "outputs": [
    {
     "name": "stdout",
     "output_type": "stream",
     "text": [
      "Default Bucket: sagemaker-us-east-1-401658568889\n",
      "AWS Region: us-east-1\n",
      "RoleArn: arn:aws:iam::401658568889:role/service-role/AmazonSageMaker-ExecutionRole-20230212T121090\n",
      "2023-02-27 19:38:55 Starting - Starting the training job...\n",
      "2023-02-27 19:39:22 Starting - Preparing the instances for trainingProfilerReport-1677526734: InProgress\n",
      "......\n",
      "2023-02-27 19:40:22 Downloading - Downloading input data.........\n",
      "2023-02-27 19:41:43 Training - Downloading the training image...\n",
      "2023-02-27 19:42:23 Training - Training image download completed. Training in progress.\u001b[34mbash: cannot set terminal process group (-1): Inappropriate ioctl for device\u001b[0m\n",
      "\u001b[34mbash: no job control in this shell\u001b[0m\n",
      "\u001b[34m2023-02-27 19:42:08,308 sagemaker-training-toolkit INFO     Imported framework sagemaker_pytorch_container.training\u001b[0m\n",
      "\u001b[34m2023-02-27 19:42:08,311 sagemaker-training-toolkit INFO     No GPUs detected (normal if no gpus installed)\u001b[0m\n",
      "\u001b[34m2023-02-27 19:42:08,320 sagemaker_pytorch_container.training INFO     Block until all host DNS lookups succeed.\u001b[0m\n",
      "\u001b[34m2023-02-27 19:42:08,323 sagemaker_pytorch_container.training INFO     Invoking user training script.\u001b[0m\n",
      "\u001b[34m2023-02-27 19:42:08,466 sagemaker-training-toolkit INFO     No GPUs detected (normal if no gpus installed)\u001b[0m\n",
      "\u001b[34m2023-02-27 19:42:08,480 sagemaker-training-toolkit INFO     No GPUs detected (normal if no gpus installed)\u001b[0m\n",
      "\u001b[34m2023-02-27 19:42:08,491 sagemaker-training-toolkit INFO     No GPUs detected (normal if no gpus installed)\u001b[0m\n",
      "\u001b[34m2023-02-27 19:42:08,500 sagemaker-training-toolkit INFO     Invoking user script\u001b[0m\n",
      "\u001b[34mTraining Env:\u001b[0m\n",
      "\u001b[34m{\n",
      "    \"additional_framework_parameters\": {},\n",
      "    \"channel_input_dirs\": {\n",
      "        \"testing\": \"/opt/ml/input/data/testing\",\n",
      "        \"training\": \"/opt/ml/input/data/training\",\n",
      "        \"validation\": \"/opt/ml/input/data/validation\"\n",
      "    },\n",
      "    \"current_host\": \"algo-1\",\n",
      "    \"framework_module\": \"sagemaker_pytorch_container.training:main\",\n",
      "    \"hosts\": [\n",
      "        \"algo-1\"\n",
      "    ],\n",
      "    \"hyperparameters\": {\n",
      "        \"batch-size\": \"32\",\n",
      "        \"lr\": \"0.001\"\n",
      "    },\n",
      "    \"input_config_dir\": \"/opt/ml/input/config\",\n",
      "    \"input_data_config\": {\n",
      "        \"testing\": {\n",
      "            \"TrainingInputMode\": \"File\",\n",
      "            \"S3DistributionType\": \"FullyReplicated\",\n",
      "            \"RecordWrapperType\": \"None\"\n",
      "        },\n",
      "        \"training\": {\n",
      "            \"TrainingInputMode\": \"File\",\n",
      "            \"S3DistributionType\": \"FullyReplicated\",\n",
      "            \"RecordWrapperType\": \"None\"\n",
      "        },\n",
      "        \"validation\": {\n",
      "            \"TrainingInputMode\": \"File\",\n",
      "            \"S3DistributionType\": \"FullyReplicated\",\n",
      "            \"RecordWrapperType\": \"None\"\n",
      "        }\n",
      "    },\n",
      "    \"input_dir\": \"/opt/ml/input\",\n",
      "    \"is_master\": true,\n",
      "    \"job_name\": \"final-training-job2222-2023-02-27-19-38-54-796\",\n",
      "    \"log_level\": 20,\n",
      "    \"master_hostname\": \"algo-1\",\n",
      "    \"model_dir\": \"/opt/ml/model\",\n",
      "    \"module_dir\": \"s3://sagemaker-us-east-1-401658568889/final-training-job2222-2023-02-27-19-38-54-796/source/sourcedir.tar.gz\",\n",
      "    \"module_name\": \"hpo\",\n",
      "    \"network_interface_name\": \"eth0\",\n",
      "    \"num_cpus\": 2,\n",
      "    \"num_gpus\": 0,\n",
      "    \"output_data_dir\": \"/opt/ml/output/data\",\n",
      "    \"output_dir\": \"/opt/ml/output\",\n",
      "    \"output_intermediate_dir\": \"/opt/ml/output/intermediate\",\n",
      "    \"resource_config\": {\n",
      "        \"current_host\": \"algo-1\",\n",
      "        \"current_instance_type\": \"ml.m5.large\",\n",
      "        \"current_group_name\": \"homogeneousCluster\",\n",
      "        \"hosts\": [\n",
      "            \"algo-1\"\n",
      "        ],\n",
      "        \"instance_groups\": [\n",
      "            {\n",
      "                \"instance_group_name\": \"homogeneousCluster\",\n",
      "                \"instance_type\": \"ml.m5.large\",\n",
      "                \"hosts\": [\n",
      "                    \"algo-1\"\n",
      "                ]\n",
      "            }\n",
      "        ],\n",
      "        \"network_interface_name\": \"eth0\"\n",
      "    },\n",
      "    \"user_entry_point\": \"hpo.py\"\u001b[0m\n",
      "\u001b[34m}\u001b[0m\n",
      "\u001b[34mEnvironment variables:\u001b[0m\n",
      "\u001b[34mSM_HOSTS=[\"algo-1\"]\u001b[0m\n",
      "\u001b[34mSM_NETWORK_INTERFACE_NAME=eth0\u001b[0m\n",
      "\u001b[34mSM_HPS={\"batch-size\":\"32\",\"lr\":\"0.001\"}\u001b[0m\n",
      "\u001b[34mSM_USER_ENTRY_POINT=hpo.py\u001b[0m\n",
      "\u001b[34mSM_FRAMEWORK_PARAMS={}\u001b[0m\n",
      "\u001b[34mSM_RESOURCE_CONFIG={\"current_group_name\":\"homogeneousCluster\",\"current_host\":\"algo-1\",\"current_instance_type\":\"ml.m5.large\",\"hosts\":[\"algo-1\"],\"instance_groups\":[{\"hosts\":[\"algo-1\"],\"instance_group_name\":\"homogeneousCluster\",\"instance_type\":\"ml.m5.large\"}],\"network_interface_name\":\"eth0\"}\u001b[0m\n",
      "\u001b[34mSM_INPUT_DATA_CONFIG={\"testing\":{\"RecordWrapperType\":\"None\",\"S3DistributionType\":\"FullyReplicated\",\"TrainingInputMode\":\"File\"},\"training\":{\"RecordWrapperType\":\"None\",\"S3DistributionType\":\"FullyReplicated\",\"TrainingInputMode\":\"File\"},\"validation\":{\"RecordWrapperType\":\"None\",\"S3DistributionType\":\"FullyReplicated\",\"TrainingInputMode\":\"File\"}}\u001b[0m\n",
      "\u001b[34mSM_OUTPUT_DATA_DIR=/opt/ml/output/data\u001b[0m\n",
      "\u001b[34mSM_CHANNELS=[\"testing\",\"training\",\"validation\"]\u001b[0m\n",
      "\u001b[34mSM_CURRENT_HOST=algo-1\u001b[0m\n",
      "\u001b[34mSM_MODULE_NAME=hpo\u001b[0m\n",
      "\u001b[34mSM_LOG_LEVEL=20\u001b[0m\n",
      "\u001b[34mSM_FRAMEWORK_MODULE=sagemaker_pytorch_container.training:main\u001b[0m\n",
      "\u001b[34mSM_INPUT_DIR=/opt/ml/input\u001b[0m\n",
      "\u001b[34mSM_INPUT_CONFIG_DIR=/opt/ml/input/config\u001b[0m\n",
      "\u001b[34mSM_OUTPUT_DIR=/opt/ml/output\u001b[0m\n",
      "\u001b[34mSM_NUM_CPUS=2\u001b[0m\n",
      "\u001b[34mSM_NUM_GPUS=0\u001b[0m\n",
      "\u001b[34mSM_MODEL_DIR=/opt/ml/model\u001b[0m\n",
      "\u001b[34mSM_MODULE_DIR=s3://sagemaker-us-east-1-401658568889/final-training-job2222-2023-02-27-19-38-54-796/source/sourcedir.tar.gz\u001b[0m\n",
      "\u001b[34mSM_TRAINING_ENV={\"additional_framework_parameters\":{},\"channel_input_dirs\":{\"testing\":\"/opt/ml/input/data/testing\",\"training\":\"/opt/ml/input/data/training\",\"validation\":\"/opt/ml/input/data/validation\"},\"current_host\":\"algo-1\",\"framework_module\":\"sagemaker_pytorch_container.training:main\",\"hosts\":[\"algo-1\"],\"hyperparameters\":{\"batch-size\":\"32\",\"lr\":\"0.001\"},\"input_config_dir\":\"/opt/ml/input/config\",\"input_data_config\":{\"testing\":{\"RecordWrapperType\":\"None\",\"S3DistributionType\":\"FullyReplicated\",\"TrainingInputMode\":\"File\"},\"training\":{\"RecordWrapperType\":\"None\",\"S3DistributionType\":\"FullyReplicated\",\"TrainingInputMode\":\"File\"},\"validation\":{\"RecordWrapperType\":\"None\",\"S3DistributionType\":\"FullyReplicated\",\"TrainingInputMode\":\"File\"}},\"input_dir\":\"/opt/ml/input\",\"is_master\":true,\"job_name\":\"final-training-job2222-2023-02-27-19-38-54-796\",\"log_level\":20,\"master_hostname\":\"algo-1\",\"model_dir\":\"/opt/ml/model\",\"module_dir\":\"s3://sagemaker-us-east-1-401658568889/final-training-job2222-2023-02-27-19-38-54-796/source/sourcedir.tar.gz\",\"module_name\":\"hpo\",\"network_interface_name\":\"eth0\",\"num_cpus\":2,\"num_gpus\":0,\"output_data_dir\":\"/opt/ml/output/data\",\"output_dir\":\"/opt/ml/output\",\"output_intermediate_dir\":\"/opt/ml/output/intermediate\",\"resource_config\":{\"current_group_name\":\"homogeneousCluster\",\"current_host\":\"algo-1\",\"current_instance_type\":\"ml.m5.large\",\"hosts\":[\"algo-1\"],\"instance_groups\":[{\"hosts\":[\"algo-1\"],\"instance_group_name\":\"homogeneousCluster\",\"instance_type\":\"ml.m5.large\"}],\"network_interface_name\":\"eth0\"},\"user_entry_point\":\"hpo.py\"}\u001b[0m\n",
      "\u001b[34mSM_USER_ARGS=[\"--batch-size\",\"32\",\"--lr\",\"0.001\"]\u001b[0m\n",
      "\u001b[34mSM_OUTPUT_INTERMEDIATE_DIR=/opt/ml/output/intermediate\u001b[0m\n",
      "\u001b[34mSM_CHANNEL_TESTING=/opt/ml/input/data/testing\u001b[0m\n",
      "\u001b[34mSM_CHANNEL_TRAINING=/opt/ml/input/data/training\u001b[0m\n",
      "\u001b[34mSM_CHANNEL_VALIDATION=/opt/ml/input/data/validation\u001b[0m\n",
      "\u001b[34mSM_HP_BATCH-SIZE=32\u001b[0m\n",
      "\u001b[34mSM_HP_LR=0.001\u001b[0m\n",
      "\u001b[34mPYTHONPATH=/opt/ml/code:/opt/conda/bin:/opt/conda/lib/python36.zip:/opt/conda/lib/python3.6:/opt/conda/lib/python3.6/lib-dynload:/opt/conda/lib/python3.6/site-packages\u001b[0m\n",
      "\u001b[34mInvoking script with the following command:\u001b[0m\n",
      "\u001b[34m/opt/conda/bin/python3.6 hpo.py --batch-size 32 --lr 0.001\u001b[0m\n",
      "\u001b[34mTraining Model on 20.0% of the Dataset\u001b[0m\n",
      "\u001b[34mEpoch 1 ...\u001b[0m\n",
      "\u001b[34m[2023-02-27 19:42:10.766 algo-1:27 INFO utils.py:27] RULE_JOB_STOP_SIGNAL_FILENAME: None\u001b[0m\n",
      "\u001b[34m[2023-02-27 19:42:10.939 algo-1:27 INFO profiler_config_parser.py:102] User has disabled profiler.\u001b[0m\n",
      "\u001b[34m[2023-02-27 19:42:10.939 algo-1:27 INFO json_config.py:91] Creating hook from json_config at /opt/ml/input/config/debughookconfig.json.\u001b[0m\n",
      "\u001b[34m[2023-02-27 19:42:10.940 algo-1:27 INFO hook.py:201] tensorboard_dir has not been set for the hook. SMDebug will not be exporting tensorboard summaries.\u001b[0m\n",
      "\u001b[34m[2023-02-27 19:42:10.940 algo-1:27 INFO hook.py:255] Saving to /opt/ml/output/tensors\u001b[0m\n",
      "\u001b[34m[2023-02-27 19:42:10.941 algo-1:27 INFO state_store.py:77] The checkpoint config file /opt/ml/input/config/checkpointconfig.json does not exist.\u001b[0m\n",
      "\u001b[34m[2023-02-27 19:42:11.651 algo-1:27 INFO hook.py:591] name:fc.0.weight count_params:2097152\u001b[0m\n",
      "\u001b[34m[2023-02-27 19:42:11.652 algo-1:27 INFO hook.py:591] name:fc.0.bias count_params:1024\u001b[0m\n",
      "\u001b[34m[2023-02-27 19:42:11.652 algo-1:27 INFO hook.py:591] name:fc.2.weight count_params:136192\u001b[0m\n",
      "\u001b[34m[2023-02-27 19:42:11.652 algo-1:27 INFO hook.py:591] name:fc.2.bias count_params:133\u001b[0m\n",
      "\u001b[34m[2023-02-27 19:42:11.653 algo-1:27 INFO hook.py:593] Total Trainable Params: 2234501\u001b[0m\n",
      "\u001b[34m[2023-02-27 19:42:11.653 algo-1:27 INFO hook.py:425] Monitoring the collections: losses\u001b[0m\n",
      "\u001b[34m[2023-02-27 19:42:11.658 algo-1:27 INFO hook.py:488] Hook is writing from the hook with pid: 27\u001b[0m\n",
      "\u001b[34mPhase training, Epoc loss 4.440, Epoc accuracy 14.807%\u001b[0m\n",
      "\u001b[34mPhase validation, Epoc loss 5.417, Epoc accuracy 1.562%\u001b[0m\n",
      "\u001b[34m5.417479991912842 1000000.0\u001b[0m\n",
      "\u001b[34mEpoch 2 ...\u001b[0m\n",
      "\u001b[34mPhase training, Epoc loss 2.494, Epoc accuracy 44.345%\u001b[0m\n",
      "\u001b[34mPhase validation, Epoc loss 8.036, Epoc accuracy 1.562%\u001b[0m\n",
      "\u001b[34m8.036415338516235 5.417479991912842\u001b[0m\n",
      "\u001b[34mLoss of validation model started to increase\u001b[0m\n",
      "\u001b[34mSaving the model to path /opt/ml/model/model.pth\u001b[0m\n",
      "\u001b[34mDownloading: \"https://download.pytorch.org/models/resnet50-19c8e357.pth\" to /root/.cache/torch/hub/checkpoints/resnet50-19c8e357.pth\u001b[0m\n",
      "\u001b[34m#015  0%|          | 0.00/97.8M [00:00<?, ?B/s]#015 27%|██▋       | 26.4M/97.8M [00:00<00:00, 277MB/s]#015 56%|█████▌    | 54.3M/97.8M [00:00<00:00, 286MB/s]#015 84%|████████▍ | 82.5M/97.8M [00:00<00:00, 291MB/s]#015100%|██████████| 97.8M/97.8M [00:00<00:00, 292MB/s]\u001b[0m\n",
      "\u001b[34m2023-02-27 19:52:43,341 sagemaker-training-toolkit INFO     Reporting training SUCCESS\u001b[0m\n",
      "\n",
      "2023-02-27 19:52:49 Uploading - Uploading generated training model\n",
      "2023-02-27 19:53:15 Completed - Training job completed\n",
      "Training seconds: 790\n",
      "Billable seconds: 790\n"
     ]
    }
   ],
   "source": [
    "from sagemaker.pytorch import PyTorch\n",
    "\n",
    "import sagemaker\n",
    "\n",
    "session = sagemaker.Session()\n",
    "\n",
    "bucket_sagemaker = session.default_bucket()\n",
    "print(\"Default Bucket: {}\".format(bucket_sagemaker))\n",
    "\n",
    "region = session.boto_region_name\n",
    "print(\"AWS Region: {}\".format(region))\n",
    "\n",
    "role = sagemaker.get_execution_role()\n",
    "print(\"RoleArn: {}\".format(role))\n",
    "\n",
    "BUCKET_DATA_PATH = f\"s3://{bucket_sagemaker}/dogImages\"\n",
    "BUCKET_DATA_PATH\n",
    "\n",
    "hyperparameters = {'batch-size':\"32\", 'lr':\"0.001\"}\n",
    "\n",
    "estimator = PyTorch(\n",
    "    entry_point=\"hpo.py\",\n",
    "    base_job_name=\"final-training-job2222\",\n",
    "    role=role,\n",
    "    py_version='py36',\n",
    "    framework_version=\"1.8\",\n",
    "    hyperparameters=hyperparameters,\n",
    "    instance_count=1,\n",
    "    instance_type=\"ml.m5.large\"\n",
    ")\n",
    "\n",
    "inputs_mapping = {\n",
    "    \"training\": f\"{BUCKET_DATA_PATH}/train\", \n",
    "    \"validation\":f\"{BUCKET_DATA_PATH}/valid\", \n",
    "    \"testing\":f\"{BUCKET_DATA_PATH}/test\"\n",
    "}\n",
    "\n",
    "estimator.fit(wait=True, inputs=inputs_mapping)\n"
   ]
  }
 ],
 "metadata": {
  "availableInstances": [
   {
    "_defaultOrder": 0,
    "_isFastLaunch": true,
    "category": "General purpose",
    "gpuNum": 0,
    "memoryGiB": 4,
    "name": "ml.t3.medium",
    "vcpuNum": 2
   },
   {
    "_defaultOrder": 1,
    "_isFastLaunch": false,
    "category": "General purpose",
    "gpuNum": 0,
    "memoryGiB": 8,
    "name": "ml.t3.large",
    "vcpuNum": 2
   },
   {
    "_defaultOrder": 2,
    "_isFastLaunch": false,
    "category": "General purpose",
    "gpuNum": 0,
    "memoryGiB": 16,
    "name": "ml.t3.xlarge",
    "vcpuNum": 4
   },
   {
    "_defaultOrder": 3,
    "_isFastLaunch": false,
    "category": "General purpose",
    "gpuNum": 0,
    "memoryGiB": 32,
    "name": "ml.t3.2xlarge",
    "vcpuNum": 8
   },
   {
    "_defaultOrder": 4,
    "_isFastLaunch": true,
    "category": "General purpose",
    "gpuNum": 0,
    "memoryGiB": 8,
    "name": "ml.m5.large",
    "vcpuNum": 2
   },
   {
    "_defaultOrder": 5,
    "_isFastLaunch": false,
    "category": "General purpose",
    "gpuNum": 0,
    "memoryGiB": 16,
    "name": "ml.m5.xlarge",
    "vcpuNum": 4
   },
   {
    "_defaultOrder": 6,
    "_isFastLaunch": false,
    "category": "General purpose",
    "gpuNum": 0,
    "memoryGiB": 32,
    "name": "ml.m5.2xlarge",
    "vcpuNum": 8
   },
   {
    "_defaultOrder": 7,
    "_isFastLaunch": false,
    "category": "General purpose",
    "gpuNum": 0,
    "memoryGiB": 64,
    "name": "ml.m5.4xlarge",
    "vcpuNum": 16
   },
   {
    "_defaultOrder": 8,
    "_isFastLaunch": false,
    "category": "General purpose",
    "gpuNum": 0,
    "memoryGiB": 128,
    "name": "ml.m5.8xlarge",
    "vcpuNum": 32
   },
   {
    "_defaultOrder": 9,
    "_isFastLaunch": false,
    "category": "General purpose",
    "gpuNum": 0,
    "memoryGiB": 192,
    "name": "ml.m5.12xlarge",
    "vcpuNum": 48
   },
   {
    "_defaultOrder": 10,
    "_isFastLaunch": false,
    "category": "General purpose",
    "gpuNum": 0,
    "memoryGiB": 256,
    "name": "ml.m5.16xlarge",
    "vcpuNum": 64
   },
   {
    "_defaultOrder": 11,
    "_isFastLaunch": false,
    "category": "General purpose",
    "gpuNum": 0,
    "memoryGiB": 384,
    "name": "ml.m5.24xlarge",
    "vcpuNum": 96
   },
   {
    "_defaultOrder": 12,
    "_isFastLaunch": false,
    "category": "General purpose",
    "gpuNum": 0,
    "memoryGiB": 8,
    "name": "ml.m5d.large",
    "vcpuNum": 2
   },
   {
    "_defaultOrder": 13,
    "_isFastLaunch": false,
    "category": "General purpose",
    "gpuNum": 0,
    "memoryGiB": 16,
    "name": "ml.m5d.xlarge",
    "vcpuNum": 4
   },
   {
    "_defaultOrder": 14,
    "_isFastLaunch": false,
    "category": "General purpose",
    "gpuNum": 0,
    "memoryGiB": 32,
    "name": "ml.m5d.2xlarge",
    "vcpuNum": 8
   },
   {
    "_defaultOrder": 15,
    "_isFastLaunch": false,
    "category": "General purpose",
    "gpuNum": 0,
    "memoryGiB": 64,
    "name": "ml.m5d.4xlarge",
    "vcpuNum": 16
   },
   {
    "_defaultOrder": 16,
    "_isFastLaunch": false,
    "category": "General purpose",
    "gpuNum": 0,
    "memoryGiB": 128,
    "name": "ml.m5d.8xlarge",
    "vcpuNum": 32
   },
   {
    "_defaultOrder": 17,
    "_isFastLaunch": false,
    "category": "General purpose",
    "gpuNum": 0,
    "memoryGiB": 192,
    "name": "ml.m5d.12xlarge",
    "vcpuNum": 48
   },
   {
    "_defaultOrder": 18,
    "_isFastLaunch": false,
    "category": "General purpose",
    "gpuNum": 0,
    "memoryGiB": 256,
    "name": "ml.m5d.16xlarge",
    "vcpuNum": 64
   },
   {
    "_defaultOrder": 19,
    "_isFastLaunch": false,
    "category": "General purpose",
    "gpuNum": 0,
    "memoryGiB": 384,
    "name": "ml.m5d.24xlarge",
    "vcpuNum": 96
   },
   {
    "_defaultOrder": 20,
    "_isFastLaunch": true,
    "category": "Compute optimized",
    "gpuNum": 0,
    "memoryGiB": 4,
    "name": "ml.c5.large",
    "vcpuNum": 2
   },
   {
    "_defaultOrder": 21,
    "_isFastLaunch": false,
    "category": "Compute optimized",
    "gpuNum": 0,
    "memoryGiB": 8,
    "name": "ml.c5.xlarge",
    "vcpuNum": 4
   },
   {
    "_defaultOrder": 22,
    "_isFastLaunch": false,
    "category": "Compute optimized",
    "gpuNum": 0,
    "memoryGiB": 16,
    "name": "ml.c5.2xlarge",
    "vcpuNum": 8
   },
   {
    "_defaultOrder": 23,
    "_isFastLaunch": false,
    "category": "Compute optimized",
    "gpuNum": 0,
    "memoryGiB": 32,
    "name": "ml.c5.4xlarge",
    "vcpuNum": 16
   },
   {
    "_defaultOrder": 24,
    "_isFastLaunch": false,
    "category": "Compute optimized",
    "gpuNum": 0,
    "memoryGiB": 72,
    "name": "ml.c5.9xlarge",
    "vcpuNum": 36
   },
   {
    "_defaultOrder": 25,
    "_isFastLaunch": false,
    "category": "Compute optimized",
    "gpuNum": 0,
    "memoryGiB": 96,
    "name": "ml.c5.12xlarge",
    "vcpuNum": 48
   },
   {
    "_defaultOrder": 26,
    "_isFastLaunch": false,
    "category": "Compute optimized",
    "gpuNum": 0,
    "memoryGiB": 144,
    "name": "ml.c5.18xlarge",
    "vcpuNum": 72
   },
   {
    "_defaultOrder": 27,
    "_isFastLaunch": false,
    "category": "Compute optimized",
    "gpuNum": 0,
    "memoryGiB": 192,
    "name": "ml.c5.24xlarge",
    "vcpuNum": 96
   },
   {
    "_defaultOrder": 28,
    "_isFastLaunch": true,
    "category": "Accelerated computing",
    "gpuNum": 1,
    "memoryGiB": 16,
    "name": "ml.g4dn.xlarge",
    "vcpuNum": 4
   },
   {
    "_defaultOrder": 29,
    "_isFastLaunch": false,
    "category": "Accelerated computing",
    "gpuNum": 1,
    "memoryGiB": 32,
    "name": "ml.g4dn.2xlarge",
    "vcpuNum": 8
   },
   {
    "_defaultOrder": 30,
    "_isFastLaunch": false,
    "category": "Accelerated computing",
    "gpuNum": 1,
    "memoryGiB": 64,
    "name": "ml.g4dn.4xlarge",
    "vcpuNum": 16
   },
   {
    "_defaultOrder": 31,
    "_isFastLaunch": false,
    "category": "Accelerated computing",
    "gpuNum": 1,
    "memoryGiB": 128,
    "name": "ml.g4dn.8xlarge",
    "vcpuNum": 32
   },
   {
    "_defaultOrder": 32,
    "_isFastLaunch": false,
    "category": "Accelerated computing",
    "gpuNum": 4,
    "memoryGiB": 192,
    "name": "ml.g4dn.12xlarge",
    "vcpuNum": 48
   },
   {
    "_defaultOrder": 33,
    "_isFastLaunch": false,
    "category": "Accelerated computing",
    "gpuNum": 1,
    "memoryGiB": 256,
    "name": "ml.g4dn.16xlarge",
    "vcpuNum": 64
   },
   {
    "_defaultOrder": 34,
    "_isFastLaunch": false,
    "category": "Accelerated computing",
    "gpuNum": 1,
    "memoryGiB": 61,
    "name": "ml.p3.2xlarge",
    "vcpuNum": 8
   },
   {
    "_defaultOrder": 35,
    "_isFastLaunch": false,
    "category": "Accelerated computing",
    "gpuNum": 4,
    "memoryGiB": 244,
    "name": "ml.p3.8xlarge",
    "vcpuNum": 32
   },
   {
    "_defaultOrder": 36,
    "_isFastLaunch": false,
    "category": "Accelerated computing",
    "gpuNum": 8,
    "memoryGiB": 488,
    "name": "ml.p3.16xlarge",
    "vcpuNum": 64
   },
   {
    "_defaultOrder": 37,
    "_isFastLaunch": false,
    "category": "Accelerated computing",
    "gpuNum": 8,
    "memoryGiB": 768,
    "name": "ml.p3dn.24xlarge",
    "vcpuNum": 96
   },
   {
    "_defaultOrder": 38,
    "_isFastLaunch": false,
    "category": "Memory Optimized",
    "gpuNum": 0,
    "memoryGiB": 16,
    "name": "ml.r5.large",
    "vcpuNum": 2
   },
   {
    "_defaultOrder": 39,
    "_isFastLaunch": false,
    "category": "Memory Optimized",
    "gpuNum": 0,
    "memoryGiB": 32,
    "name": "ml.r5.xlarge",
    "vcpuNum": 4
   },
   {
    "_defaultOrder": 40,
    "_isFastLaunch": false,
    "category": "Memory Optimized",
    "gpuNum": 0,
    "memoryGiB": 64,
    "name": "ml.r5.2xlarge",
    "vcpuNum": 8
   },
   {
    "_defaultOrder": 41,
    "_isFastLaunch": false,
    "category": "Memory Optimized",
    "gpuNum": 0,
    "memoryGiB": 128,
    "name": "ml.r5.4xlarge",
    "vcpuNum": 16
   },
   {
    "_defaultOrder": 42,
    "_isFastLaunch": false,
    "category": "Memory Optimized",
    "gpuNum": 0,
    "memoryGiB": 256,
    "name": "ml.r5.8xlarge",
    "vcpuNum": 32
   },
   {
    "_defaultOrder": 43,
    "_isFastLaunch": false,
    "category": "Memory Optimized",
    "gpuNum": 0,
    "memoryGiB": 384,
    "name": "ml.r5.12xlarge",
    "vcpuNum": 48
   },
   {
    "_defaultOrder": 44,
    "_isFastLaunch": false,
    "category": "Memory Optimized",
    "gpuNum": 0,
    "memoryGiB": 512,
    "name": "ml.r5.16xlarge",
    "vcpuNum": 64
   },
   {
    "_defaultOrder": 45,
    "_isFastLaunch": false,
    "category": "Memory Optimized",
    "gpuNum": 0,
    "memoryGiB": 768,
    "name": "ml.r5.24xlarge",
    "vcpuNum": 96
   },
   {
    "_defaultOrder": 46,
    "_isFastLaunch": false,
    "category": "Accelerated computing",
    "gpuNum": 1,
    "memoryGiB": 16,
    "name": "ml.g5.xlarge",
    "vcpuNum": 4
   },
   {
    "_defaultOrder": 47,
    "_isFastLaunch": false,
    "category": "Accelerated computing",
    "gpuNum": 1,
    "memoryGiB": 32,
    "name": "ml.g5.2xlarge",
    "vcpuNum": 8
   },
   {
    "_defaultOrder": 48,
    "_isFastLaunch": false,
    "category": "Accelerated computing",
    "gpuNum": 1,
    "memoryGiB": 64,
    "name": "ml.g5.4xlarge",
    "vcpuNum": 16
   },
   {
    "_defaultOrder": 49,
    "_isFastLaunch": false,
    "category": "Accelerated computing",
    "gpuNum": 1,
    "memoryGiB": 128,
    "name": "ml.g5.8xlarge",
    "vcpuNum": 32
   },
   {
    "_defaultOrder": 50,
    "_isFastLaunch": false,
    "category": "Accelerated computing",
    "gpuNum": 1,
    "memoryGiB": 256,
    "name": "ml.g5.16xlarge",
    "vcpuNum": 64
   },
   {
    "_defaultOrder": 51,
    "_isFastLaunch": false,
    "category": "Accelerated computing",
    "gpuNum": 4,
    "memoryGiB": 192,
    "name": "ml.g5.12xlarge",
    "vcpuNum": 48
   },
   {
    "_defaultOrder": 52,
    "_isFastLaunch": false,
    "category": "Accelerated computing",
    "gpuNum": 4,
    "memoryGiB": 384,
    "name": "ml.g5.24xlarge",
    "vcpuNum": 96
   },
   {
    "_defaultOrder": 53,
    "_isFastLaunch": false,
    "category": "Accelerated computing",
    "gpuNum": 8,
    "memoryGiB": 768,
    "name": "ml.g5.48xlarge",
    "vcpuNum": 192
   }
  ],
  "instance_type": "ml.t3.medium",
  "kernelspec": {
   "display_name": "Python 3",
   "language": "python",
   "name": "python3"
  },
  "language_info": {
   "codemirror_mode": {
    "name": "ipython",
    "version": 3
   },
   "file_extension": ".py",
   "mimetype": "text/x-python",
   "name": "python",
   "nbconvert_exporter": "python",
   "pygments_lexer": "ipython3",
   "version": "3.8.3"
  }
 },
 "nbformat": 4,
 "nbformat_minor": 5
}
